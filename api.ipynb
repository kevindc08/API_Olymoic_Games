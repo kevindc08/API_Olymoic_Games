{
 "cells": [
  {
   "cell_type": "markdown",
   "metadata": {},
   "source": [
    "## Notebook de desarrollo API juegps olimpicos\n",
    "---\n",
    "-importando librerias"
   ]
  },
  {
   "cell_type": "code",
   "execution_count": 4,
   "metadata": {},
   "outputs": [],
   "source": [
    "import pandas as pd\n",
    "import numpy as np\n",
    "from fastapi import FastAPI"
   ]
  },
  {
   "cell_type": "markdown",
   "metadata": {},
   "source": [
    "-Instanciando fastapi"
   ]
  },
  {
   "cell_type": "code",
   "execution_count": 5,
   "metadata": {},
   "outputs": [],
   "source": [
    "app=FastAPI()"
   ]
  },
  {
   "cell_type": "markdown",
   "metadata": {},
   "source": [
    "-Cargar Datasets"
   ]
  },
  {
   "cell_type": "code",
   "execution_count": 6,
   "metadata": {},
   "outputs": [],
   "source": [
    "df=pd.read_parquet('Data/Dataset.parquet')"
   ]
  },
  {
   "cell_type": "markdown",
   "metadata": {},
   "source": [
    "-Funciones"
   ]
  },
  {
   "cell_type": "code",
   "execution_count": 7,
   "metadata": {},
   "outputs": [],
   "source": [
    "@app.get('/')\n",
    "def index():\n",
    "    return{\"API\":\"Online\"}"
   ]
  },
  {
   "cell_type": "markdown",
   "metadata": {},
   "source": [
    "Funcion Medals"
   ]
  },
  {
   "cell_type": "code",
   "execution_count": 36,
   "metadata": {},
   "outputs": [],
   "source": [
    "@app.get(\"/medals\")\n",
    "def medals():\n",
    "    medal= df['Medal'].value_counts()\n",
    "    dic = {}\n",
    "    for i in range(len(medal)):\n",
    "        dic[medal.index[i]] = int(medal.values[i])\n",
    "    return dic"
   ]
  },
  {
   "cell_type": "code",
   "execution_count": 37,
   "metadata": {},
   "outputs": [
    {
     "data": {
      "text/plain": [
       "{'Gold': 14172, 'Bronze': 14162, 'Silver': 13898}"
      ]
     },
     "execution_count": 37,
     "metadata": {},
     "output_type": "execute_result"
    }
   ],
   "source": [
    "medals()"
   ]
  },
  {
   "cell_type": "markdown",
   "metadata": {},
   "source": [
    "Funcion Medals_country(pais)"
   ]
  },
  {
   "cell_type": "code",
   "execution_count": 9,
   "metadata": {},
   "outputs": [],
   "source": [
    "@app.get(\"/medal_country/{pais}\")\n",
    "def medal_country(Pais:str):\n",
    "    filtro = df[df['Team']==Pais]\n",
    "    medallas = filtro['Medal'].value_counts()\n",
    "    dic={}\n",
    "    for i in range(len(medallas)):\n",
    "        dic[medallas.index[i]]=int(medallas.values[i])\n",
    "    return dic"
   ]
  },
  {
   "cell_type": "code",
   "execution_count": 10,
   "metadata": {},
   "outputs": [
    {
     "data": {
      "text/plain": [
       "{'Bronze': 78, 'Gold': 30, 'Silver': 26}"
      ]
     },
     "execution_count": 10,
     "metadata": {},
     "output_type": "execute_result"
    }
   ],
   "source": [
    "medal_country('Mexico')"
   ]
  },
  {
   "cell_type": "markdown",
   "metadata": {},
   "source": [
    "Funcion Medals_year(año)"
   ]
  },
  {
   "cell_type": "code",
   "execution_count": 11,
   "metadata": {},
   "outputs": [],
   "source": [
    "@app.get(\"/medal_year/{year}\")\n",
    "def medal_year(year:int):\n",
    "    filtro = df[df['Year']==year]\n",
    "    medallas = filtro['Medal'].value_counts()\n",
    "    dic={}\n",
    "    for i in range(len(medallas)):\n",
    "        dic[medallas.index[i]]=int(medallas.values[i])\n",
    "    return dic"
   ]
  },
  {
   "cell_type": "markdown",
   "metadata": {},
   "source": [
    "funcion athletes(nombres)"
   ]
  },
  {
   "cell_type": "code",
   "execution_count": 26,
   "metadata": {},
   "outputs": [],
   "source": [
    "@app.get(\"/Atletas/{nombre}\")\n",
    "def Atletas(nombre: str):\n",
    "    filtro = df[df[\"Name\"] == nombre]\n",
    "    dic={}\n",
    "    if filtro.empty:\n",
    "        return{'Error':'Revise los datos ingreados'}\n",
    "    dic['Name']=nombre\n",
    "    dic['Sexo']=filtro['Sex'].values[0]\n",
    "    dic['Edad']=list(filtro['Age'].value_counts().index)\n",
    "    dic['Pais']=list(filtro['Team'].value_counts().index)\n",
    "    dic['Juegos']=list(filtro['Games'].value_counts().index)\n",
    "    dic['Evento']=list(filtro['Event'].value_counts().index)\n",
    "    Medallas={}\n",
    "    for i in range(len(filtro['Medal'].value_counts())):\n",
    "        Medallas[filtro['Medal'].value_counts().index[i]]=int(filtro['Medal'].value_counts().values[i])\n",
    "        dic['Medallas']=Medallas\n",
    "        return dic\n"
   ]
  },
  {
   "cell_type": "code",
   "execution_count": 27,
   "metadata": {},
   "outputs": [
    {
     "data": {
      "text/plain": [
       "{'Name': 'Heikki Ilmari Savolainen',\n",
       " 'Sexo': 'M',\n",
       " 'Edad': [24.0, 28.0, 40.0, 44.0, 20.0],\n",
       " 'Pais': ['Finland'],\n",
       " 'Juegos': ['1932 Summer',\n",
       "  '1936 Summer',\n",
       "  '1948 Summer',\n",
       "  '1952 Summer',\n",
       "  '1928 Summer'],\n",
       " 'Evento': [\"Gymnastics Men's Individual All-Around\",\n",
       "  \"Gymnastics Men's Team All-Around\",\n",
       "  \"Gymnastics Men's Horse Vault\",\n",
       "  \"Gymnastics Men's Parallel Bars\",\n",
       "  \"Gymnastics Men's Horizontal Bar\",\n",
       "  \"Gymnastics Men's Rings\",\n",
       "  \"Gymnastics Men's Pommelled Horse\",\n",
       "  \"Gymnastics Men's Floor Exercise\"],\n",
       " 'Medallas': {'Bronze': 6}}"
      ]
     },
     "execution_count": 27,
     "metadata": {},
     "output_type": "execute_result"
    }
   ],
   "source": [
    "Atletas(\"Heikki Ilmari Savolainen\")"
   ]
  }
 ],
 "metadata": {
  "kernelspec": {
   "display_name": "Python 3",
   "language": "python",
   "name": "python3"
  },
  "language_info": {
   "codemirror_mode": {
    "name": "ipython",
    "version": 3
   },
   "file_extension": ".py",
   "mimetype": "text/x-python",
   "name": "python",
   "nbconvert_exporter": "python",
   "pygments_lexer": "ipython3",
   "version": "3.12.5"
  }
 },
 "nbformat": 4,
 "nbformat_minor": 2
}
